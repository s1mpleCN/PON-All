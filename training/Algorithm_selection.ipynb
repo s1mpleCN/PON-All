{
 "cells": [
  {
   "cell_type": "code",
   "execution_count": 1,
   "metadata": {},
   "outputs": [],
   "source": [
    "import pandas as pd\n",
    "import numpy as np\n",
    "from numpy import sort\n",
    "import copy\n",
    "import math\n",
    "import cmath\n",
    "import datetime\n",
    "from sklearn.feature_selection import RFE,RFECV  \n",
    "from sklearn.feature_selection import SelectFromModel\n",
    "import joblib\n",
    "from sklearn.ensemble import RandomForestClassifier\n",
    "import lightgbm as lgb\n",
    "import xgboost as xgb\n",
    "import matplotlib.pyplot as plt"
   ]
  },
  {
   "cell_type": "markdown",
   "metadata": {},
   "source": [
    "# Function"
   ]
  },
  {
   "cell_type": "code",
   "execution_count": 2,
   "metadata": {},
   "outputs": [],
   "source": [
    "def calculate_LR(df1,df2):\n",
    "    \"\"\"\n",
    "    df1:cv training set\n",
    "    df2:cv test set\n",
    "    \"\"\"\n",
    "    # log ((2+c)/(1+c)) + log ((2+c)/ (1+c)), {c==1}\n",
    "\n",
    "    p = {}\n",
    "    n = {}\n",
    "    for index,row in df1.iterrows():\n",
    "        if(pd.isna(row['ancestor'])):\n",
    "            continue\n",
    "        for i in row['ancestor'].split(','):\n",
    "            if i not in p.keys():\n",
    "                p[i]=1\n",
    "                n[i]=1\n",
    "            if(row['is_del']==1):\n",
    "                p[i]+=1\n",
    "            else:\n",
    "                n[i]+=1\n",
    "                \n",
    "    l = copy.deepcopy(p)\n",
    "    for i in l.keys():\n",
    "        l[i]=math.log(p[i]/n[i]) \n",
    "    l\n",
    "    \n",
    "    def LR_add(x):\n",
    "        sum=0\n",
    "        if(pd.isna(x)):\n",
    "            return sum\n",
    "        for i in x.split(','):\n",
    "            if i in l:\n",
    "                sum = sum + l[i]\n",
    "        return sum\n",
    "    df1['LR'] = df1['ancestor'].apply(lambda x:LR_add(x))\n",
    "    df2['LR'] = df2['ancestor'].apply(lambda x:LR_add(x))\n",
    "    df1 = df1.drop(columns=['ancestor'])\n",
    "    df2 = df2.drop(columns=['ancestor'])\n",
    "    return df1,df2"
   ]
  },
  {
   "cell_type": "code",
   "execution_count": 3,
   "metadata": {},
   "outputs": [],
   "source": [
    "def calculate_PA(df1,df2):\n",
    "    \"\"\"\n",
    "    df1:cv training set\n",
    "    df2:cv test set\n",
    "    \"\"\"\n",
    "    # log ((2+c)/(1+c)) + log ((2+c)/ (1+c)), {c==1}\n",
    "\n",
    "    p = {}\n",
    "    n = {}\n",
    "    for index,row in df1.iterrows():\n",
    "        if(pd.isna(row['site'])):\n",
    "            continue\n",
    "        for i in row['site'].split(','):\n",
    "            if i!='':\n",
    "                if i not in p.keys():\n",
    "                    p[i]=1\n",
    "                    n[i]=1\n",
    "                if(row['is_del']==1):\n",
    "                    p[i]+=1\n",
    "                else:\n",
    "                    n[i]+=1\n",
    "                \n",
    "    s = copy.deepcopy(p)\n",
    "    for i in s.keys():\n",
    "        s[i]=math.log(p[i]/n[i]) \n",
    "    s\n",
    "    \n",
    "    def PA_add(x):\n",
    "        sum=0\n",
    "        if(pd.isna(x)):\n",
    "            return sum\n",
    "        for i in x.split(','):\n",
    "            if i != '' and i in s:\n",
    "                sum = sum + s[i]\n",
    "        return sum\n",
    "    df1['PA'] = df1['site'].apply(lambda x:PA_add(x))\n",
    "    df2['PA'] = df2['site'].apply(lambda x:PA_add(x))\n",
    "    df1 = df1.drop(columns=['site'])\n",
    "    df2 = df2.drop(columns=['site'])\n",
    "    return df1,df2"
   ]
  },
  {
   "cell_type": "code",
   "execution_count": 20,
   "metadata": {},
   "outputs": [],
   "source": [
    "def tolerance_metrics(y_true, y_pre):\n",
    "    #     y_true, y_pre = y_test1, p_test1\n",
    "    label = pd.DataFrame({'true': y_true, 'pre': y_pre})\n",
    "\n",
    "\n",
    "    unique_state = label.true.unique()\n",
    "    targets = {}\n",
    "    state_map = {1: 'p', 0: 'n', '0': 'p', '0': 'n'}\n",
    "    tp = fp = tn = fn = 0\n",
    "    for i, (t, p) in label.iterrows():\n",
    "        if t == 0 and p == 0:\n",
    "            tn += 1\n",
    "        if t == 0 and p == 1:\n",
    "            fp += 1\n",
    "        if t == 1 and p == 1:\n",
    "            tp += 1\n",
    "        if t == 1 and p == 0:\n",
    "            fn += 1\n",
    "\n",
    "    allp = tp + fn\n",
    "    alln = fp + tn\n",
    "\n",
    "\n",
    "    N = tp + tn + fp + fn\n",
    "    # ppv\n",
    "    ppv = tp / (tp + fp)\n",
    "    # npv\n",
    "    npv = tn / (tn + fn)\n",
    "    # sensitivity -> TPR\n",
    "    sen = tp / (tp + fn)\n",
    "    # spciticity -> TNR\n",
    "    spe = tn / (tn + fp)\n",
    "    # acc\n",
    "    acc = (tp + tn) / N\n",
    "    # MCC\n",
    "    mcc = (tp*tn-fp*fn) /(((tp+fp) * (tp+fn) * (tn+fp) * (tn+fn))**0.5)\n",
    "    # OPM\n",
    "    opm = (ppv+npv)*(sen+spe)*(acc+(1+mcc)/2)/8\n",
    "    columns = ['tp', 'tn', 'fp', 'fn', 'ppv', 'npv', 'tpr', 'tnr', 'acc', 'mcc', 'opm']\n",
    "    res = pd.DataFrame(\n",
    "        [\n",
    "            [tp, tn, fp, fn, ppv, npv, sen, spe, acc, mcc, opm]\n",
    "        ], \n",
    "        columns=columns,\n",
    "    )\n",
    "    \n",
    "\n",
    "    return res.T"
   ]
  },
  {
   "cell_type": "code",
   "execution_count": 25,
   "metadata": {},
   "outputs": [],
   "source": [
    "def no_reject(species,model,name):\n",
    "    for i in range(1,11):\n",
    "        df1 = pd.read_csv('./CV_dataset/{}/{}_train{}.csv'.format(species,species,i))\n",
    "        df2 = pd.read_csv('./CV_dataset/{}/{}_validation{}.csv'.format(species,species,i))\n",
    "        df1,df2 = calculate_LR(df1,df2)\n",
    "        df1,df2 = calculate_PA(df1,df2)\n",
    "\n",
    "        y_test = df2.is_del.values\n",
    "        X_test = df2.iloc[:,df2.columns != \"nutation\"].iloc[:,5:]\n",
    "        y_train = df1.is_del.values\n",
    "        X_train = df1.iloc[:,df1.columns != \"nutation\"].iloc[:,5:]\n",
    "\n",
    "        model.fit(X_train, y_train)\n",
    "        y_pred=model.predict(X_test)\n",
    "        if(i==1):\n",
    "            performance = tolerance_metrics(y_test, y_pred)\n",
    "        else:\n",
    "            performance = pd.concat([performance,tolerance_metrics(y_test, y_pred)], axis=1)\n",
    "    performance['average'] = performance.mean(axis=1)\n",
    "    # # 构造成 pandas\n",
    "    performance.to_csv('out/{}_re.csv'.format(name))"
   ]
  },
  {
   "cell_type": "markdown",
   "metadata": {},
   "source": [
    "# RF"
   ]
  },
  {
   "cell_type": "code",
   "execution_count": 26,
   "metadata": {},
   "outputs": [],
   "source": [
    "species = 'All_species'\n",
    "model = RandomForestClassifier()\n",
    "name = 'RF'\n",
    "no_reject(species,model,name)"
   ]
  },
  {
   "cell_type": "markdown",
   "metadata": {},
   "source": [
    "# XGB"
   ]
  },
  {
   "cell_type": "code",
   "execution_count": null,
   "metadata": {},
   "outputs": [],
   "source": [
    "species = 'All_species'\n",
    "model = xgb.XGBClassifier()\n",
    "name = 'XGB'\n",
    "no_reject(species,model,name)"
   ]
  },
  {
   "cell_type": "markdown",
   "metadata": {},
   "source": [
    "# LGBM"
   ]
  },
  {
   "cell_type": "code",
   "execution_count": null,
   "metadata": {},
   "outputs": [],
   "source": [
    "species = 'All_species'\n",
    "model = lgb.LGBMClassifier()\n",
    "name = 'LGBM'\n",
    "no_reject(species,model,name)"
   ]
  }
 ],
 "metadata": {
  "kernelspec": {
   "display_name": "Python 3",
   "language": "python",
   "name": "python3"
  },
  "language_info": {
   "codemirror_mode": {
    "name": "ipython",
    "version": 3
   },
   "file_extension": ".py",
   "mimetype": "text/x-python",
   "name": "python",
   "nbconvert_exporter": "python",
   "pygments_lexer": "ipython3",
   "version": "3.8.5"
  }
 },
 "nbformat": 4,
 "nbformat_minor": 4
}
