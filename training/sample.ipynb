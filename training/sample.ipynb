{
 "cells": [
  {
   "cell_type": "code",
   "execution_count": 1,
   "metadata": {},
   "outputs": [],
   "source": [
    "import pandas as pd\n",
    "import numpy as np\n",
    "from numpy import sort\n",
    "import copy\n",
    "import math\n",
    "import cmath\n",
    "import datetime\n",
    "\n",
    "from sklearn.feature_selection import RFE,RFECV\n",
    "from sklearn.feature_selection import SelectFromModel\n",
    "import joblib\n",
    "\n",
    "from sklearn.ensemble import RandomForestClassifier\n",
    "import lightgbm as lgb\n",
    "import xgboost as xgb\n",
    "\n",
    "import matplotlib.pyplot as plt"
   ]
  },
  {
   "cell_type": "markdown",
   "metadata": {},
   "source": [
    "# Function"
   ]
  },
  {
   "cell_type": "code",
   "execution_count": 2,
   "metadata": {},
   "outputs": [],
   "source": [
    "def calculate_LR(df1,df2):\n",
    "    \"\"\"\n",
    "    df1:cv training set\n",
    "    df2:cv test set\n",
    "    \"\"\"\n",
    "    # log ((2+c)/(1+c)) + log ((2+c)/ (1+c)), {c==1}\n",
    "\n",
    "    p = {}\n",
    "    n = {}\n",
    "    for index,row in df1.iterrows():\n",
    "        if(pd.isna(row['ancestor'])):\n",
    "            continue\n",
    "        for i in row['ancestor'].split(','):\n",
    "            if i not in p.keys():\n",
    "                p[i]=1\n",
    "                n[i]=1\n",
    "            if(row['is_del']==1):\n",
    "                p[i]+=1\n",
    "            else:\n",
    "                n[i]+=1\n",
    "                \n",
    "    l = copy.deepcopy(p)\n",
    "    for i in l.keys():\n",
    "        l[i]=math.log(p[i]/n[i]) \n",
    "    l\n",
    "    \n",
    "    def LR_add(x):\n",
    "        sum=0\n",
    "        if(pd.isna(x)):\n",
    "            return sum\n",
    "        for i in x.split(','):\n",
    "            if i in l:\n",
    "                sum = sum + l[i]\n",
    "        return sum\n",
    "    df1['LR'] = df1['ancestor'].apply(lambda x:LR_add(x))\n",
    "    df2['LR'] = df2['ancestor'].apply(lambda x:LR_add(x))\n",
    "    df1 = df1.drop(columns=['ancestor'])\n",
    "    df2 = df2.drop(columns=['ancestor'])\n",
    "    return df1,df2"
   ]
  },
  {
   "cell_type": "code",
   "execution_count": 3,
   "metadata": {},
   "outputs": [],
   "source": [
    "\n",
    "def calculate_PA(df1,df2):\n",
    "    \"\"\"\n",
    "    df1:cv training set\n",
    "    df2:cv test set\n",
    "    \"\"\"\n",
    "    # log ((2+c)/(1+c)) + log ((2+c)/ (1+c)), {c==1}\n",
    "\n",
    "\n",
    "    p = {}\n",
    "    n = {}\n",
    "    for index,row in df1.iterrows():\n",
    "        if(pd.isna(row['site'])):\n",
    "            continue\n",
    "        for i in row['site'].split(','):\n",
    "            if i!='':\n",
    "                if i not in p.keys():\n",
    "                    p[i]=1\n",
    "                    n[i]=1\n",
    "                if(row['is_del']==1):\n",
    "                    p[i]+=1\n",
    "                else:\n",
    "                    n[i]+=1\n",
    "                \n",
    "    s = copy.deepcopy(p)\n",
    "    for i in s.keys():\n",
    "        s[i]=math.log(p[i]/n[i]) \n",
    "    s\n",
    "    \n",
    "\n",
    "    def PA_add(x):\n",
    "        sum=0\n",
    "        if(pd.isna(x)):\n",
    "            return sum\n",
    "        for i in x.split(','):\n",
    "            if i != '' and i in s:\n",
    "                sum = sum + s[i]\n",
    "        return sum\n",
    "    df1['PA'] = df1['site'].apply(lambda x:PA_add(x))\n",
    "    df2['PA'] = df2['site'].apply(lambda x:PA_add(x))\n",
    "    df1 = df1.drop(columns=['site'])\n",
    "    df2 = df2.drop(columns=['site'])\n",
    "    return df1,df2"
   ]
  },
  {
   "cell_type": "markdown",
   "metadata": {},
   "source": [
    "# Bootstrap抽样"
   ]
  },
  {
   "cell_type": "markdown",
   "metadata": {},
   "source": [
    "# CV"
   ]
  },
  {
   "cell_type": "markdown",
   "metadata": {},
   "source": [
    "### All_species"
   ]
  },
  {
   "cell_type": "code",
   "execution_count": 7,
   "metadata": {},
   "outputs": [],
   "source": [
    "for i in range(1,11):\n",
    "    df1 = pd.read_csv('./CV_dataset/All_species/All_species_train{}.csv'.format(i))\n",
    "    df2 = pd.read_csv('./CV_dataset/All_species/All_species_validation{}.csv'.format(i))\n",
    "    df1,df2 = calculate_LR(df1,df2)\n",
    "    df1,df2 = calculate_PA(df1,df2)\n",
    "    for j in range(200):\n",
    "        train = df1.sample(frac=1.0,replace=True)\n",
    "        train.to_csv(\"All_species_bootstraps/bootstrap{}/bootstrap_Combine_train_{}.csv\".format(i,j),float_format='%.3f',index=None)"
   ]
  },
  {
   "cell_type": "markdown",
   "metadata": {},
   "source": [
    "### Human"
   ]
  },
  {
   "cell_type": "code",
   "execution_count": null,
   "metadata": {},
   "outputs": [],
   "source": [
    "for i in range(1,11):\n",
    "    df1 = pd.read_csv('./CV_dataset/Human/Human_train{}.csv'.format(i))\n",
    "    df2 = pd.read_csv('./CV_dataset/Human/Human_validation{}.csv'.format(i))\n",
    "    df1,df2 = calculate_LR(df1,df2)\n",
    "    df1,df2 = calculate_PA(df1,df2)\n",
    "    for j in range(200):\n",
    "        train = df1.sample(frac=1.0,replace=True)\n",
    "        train.to_csv(\"Human_bootstraps/bootstrap{}/bootstrap_Combine_train_{}.csv\".format(i,j),float_format='%.3f',index=None)"
   ]
  },
  {
   "cell_type": "markdown",
   "metadata": {},
   "source": [
    "### Animal"
   ]
  },
  {
   "cell_type": "code",
   "execution_count": 4,
   "metadata": {
    "scrolled": true
   },
   "outputs": [],
   "source": [
    "for i in range(1,11):\n",
    "    df1 = pd.read_csv('./CV_dataset/Animal/Animal_train{}.csv'.format(i))\n",
    "    df2 = pd.read_csv('./CV_dataset/Animal/Animal_validation{}.csv'.format(i))\n",
    "    df1,df2 = calculate_LR(df1,df2)\n",
    "    df1,df2 = calculate_PA(df1,df2)\n",
    "    for j in range(200):\n",
    "        train = df1.sample(frac=1.0,replace=True)\n",
    "        train.to_csv(\"Animal_bootstraps/bootstrap{}/bootstrap_Combine_train_{}.csv\".format(i,j),float_format='%.3f',index=None)"
   ]
  },
  {
   "cell_type": "markdown",
   "metadata": {},
   "source": [
    "### Plant"
   ]
  },
  {
   "cell_type": "code",
   "execution_count": 5,
   "metadata": {},
   "outputs": [],
   "source": [
    "for i in range(1,11):\n",
    "    df1 = pd.read_csv('./CV_dataset/Plant/Plant_train{}.csv'.format(i))\n",
    "    df2 = pd.read_csv('./CV_dataset/Plant/Plant_validation{}.csv'.format(i))\n",
    "    df1,df2 = calculate_LR(df1,df2)\n",
    "    df1,df2 = calculate_PA(df1,df2)\n",
    "    for j in range(200):\n",
    "        train = df1.sample(frac=1.0,replace=True)\n",
    "        train.to_csv(\"Plant_bootstraps/bootstrap{}/bootstrap_Combine_train_{}.csv\".format(i,j),float_format='%.3f',index=None)"
   ]
  },
  {
   "cell_type": "markdown",
   "metadata": {},
   "source": [
    "# Blind"
   ]
  },
  {
   "cell_type": "code",
   "execution_count": null,
   "metadata": {},
   "outputs": [],
   "source": [
    "def sample_blind(species): \n",
    "    \n",
    "    data1 = pd.read_csv('./CV_dataset/{}/{}_train1.csv'.format(species,species))\n",
    "    data2 = pd.read_csv('./CV_dataset/{}/{}_validation1.csv'.format(species,species))\n",
    "    df1 = pd.concat([data1,data2], ignore_index=True)\n",
    "    df2 = pd.read_csv('Dataset/Blind_{}.csv'.format(species))\n",
    "    \n",
    "    df1,df2 = calculate_LR(df1,df2)\n",
    "    df1,df2 = calculate_PA(df1,df2)\n",
    "\n",
    "    for i in range(200):\n",
    "        train = df1.sample(frac=1.0,replace=True)\n",
    "        train.to_csv(\"Blind/{}/bootstrap_Combine_train_{}.csv\".format(species,i),float_format='%.3f',index=None)"
   ]
  },
  {
   "cell_type": "code",
   "execution_count": null,
   "metadata": {},
   "outputs": [],
   "source": [
    "sample_blind('All_species')\n",
    "sample_blind('Human')\n",
    "sample_blind('Animal')\n",
    "sample_blind('Plant')"
   ]
  }
 ],
 "metadata": {
  "kernelspec": {
   "display_name": "Python 3",
   "language": "python",
   "name": "python3"
  },
  "language_info": {
   "codemirror_mode": {
    "name": "ipython",
    "version": 3
   },
   "file_extension": ".py",
   "mimetype": "text/x-python",
   "name": "python",
   "nbconvert_exporter": "python",
   "pygments_lexer": "ipython3",
   "version": "3.8.5"
  }
 },
 "nbformat": 4,
 "nbformat_minor": 4
}
